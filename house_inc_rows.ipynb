{
 "cells": [
  {
   "cell_type": "code",
   "execution_count": 14,
   "metadata": {},
   "outputs": [],
   "source": [
    "import csv, os\n",
    "import pandas as pd\n",
    "import numpy as np"
   ]
  },
  {
   "cell_type": "code",
   "execution_count": 20,
   "metadata": {},
   "outputs": [],
   "source": [
    "file_path = os.path.join(\"datas\",\"household_income\", \"Geo_starting_row_CSV.csv\")\n",
    "\n",
    "with open(file_path, encoding=\"UTF-8\") as file:\n",
    "    rows = csv.reader(file)\n",
    "    header = next(rows)\n",
    "    \n",
    "    cities = [\"St. John's\", \"Halifax\", \"Moncton\", \"Saint John\", \"Fredericton\",\n",
    "             \"Saguenay\", \"Québec\", \"Sherbrooke\",\"Trois-Rivières\",  \"Drummondville\",\n",
    "             \"Granby\",\"Montréal\", \"Ottawa - Gatineau\", \"Kingston\", \"Belleville\",\n",
    "             \"Peterborough\", \"Oshawa\", \"Toronto\", \"Hamilton\", \"St. Catharines - Niagara\",\n",
    "             \"Kitchener - Cambridge - Waterloo\", \"Brantford\", \"Guelph\", \n",
    "             \"London\", \"Windsor\", \"Sarnia\", \"Barrie\", \"North Bay\", \"Greater Sudbury\",\n",
    "              \"Sault Ste. Marie\", \"Thunder Bay\", \"Winnipeg\",\"Regina\", \"Saskatoon\",\n",
    "              \"Medicine Hat\",\"Lethbridge\", \"Calgary\",\"Red Deer\",\"Edmonton\",\"Grande Prairie\",\n",
    "              \"Wood Buffalo\",\"Kelowna\",\"Kamloops\",\"Chilliwack\",\"Abbotsford - Mission\",\n",
    "              \"Vancouver\",\"Victoria\",\"Nanaimo\",\"Prince George\",\n",
    "             ]\n",
    "    my_list = []\n",
    "    for row in rows:\n",
    "        \n",
    "        # take only list with city name         \n",
    "        if row[1] in cities:\n",
    "            my_list.append(row)\n"
   ]
  },
  {
   "cell_type": "code",
   "execution_count": 23,
   "metadata": {},
   "outputs": [
    {
     "data": {
      "text/plain": [
       "[['1', \"St. John's\", '2'],\n",
       " ['205', 'Halifax', '530'],\n",
       " ['305', 'Moncton', '1564']]"
      ]
     },
     "execution_count": 23,
     "metadata": {},
     "output_type": "execute_result"
    }
   ],
   "source": [
    "my_list[0:3]"
   ]
  },
  {
   "cell_type": "code",
   "execution_count": null,
   "metadata": {},
   "outputs": [],
   "source": []
  }
 ],
 "metadata": {
  "kernelspec": {
   "display_name": "Python 3",
   "language": "python",
   "name": "python3"
  },
  "language_info": {
   "codemirror_mode": {
    "name": "ipython",
    "version": 3
   },
   "file_extension": ".py",
   "mimetype": "text/x-python",
   "name": "python",
   "nbconvert_exporter": "python",
   "pygments_lexer": "ipython3",
   "version": "3.7.1"
  }
 },
 "nbformat": 4,
 "nbformat_minor": 2
}
